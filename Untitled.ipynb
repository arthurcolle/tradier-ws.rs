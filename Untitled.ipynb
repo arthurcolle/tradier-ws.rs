{
 "cells": [
  {
   "cell_type": "code",
   "execution_count": 6,
   "id": "d1f13f31",
   "metadata": {},
   "outputs": [],
   "source": [
    "import yfinance as yf\n",
    "spy400c = yf.Ticker(\"SPY221216C00400000\")\n",
    "spy400p = yf.Ticker(\"SPY221216P00400000\")"
   ]
  },
  {
   "cell_type": "code",
   "execution_count": null,
   "id": "a22377f0",
   "metadata": {},
   "outputs": [],
   "source": []
  },
  {
   "cell_type": "code",
   "execution_count": null,
   "id": "dbcaa00e",
   "metadata": {},
   "outputs": [],
   "source": []
  },
  {
   "cell_type": "code",
   "execution_count": 8,
   "id": "1c98fb0a",
   "metadata": {},
   "outputs": [
    {
     "data": {
      "text/plain": [
       "yfinance.Ticker object <SPY221216C00400000>"
      ]
     },
     "execution_count": 8,
     "metadata": {},
     "output_type": "execute_result"
    }
   ],
   "source": [
    "spy400c"
   ]
  },
  {
   "cell_type": "code",
   "execution_count": 9,
   "id": "6e8ece30",
   "metadata": {},
   "outputs": [
    {
     "data": {
      "text/plain": [
       "{'exchange': 'OPR',\n",
       " 'shortName': 'SPY Dec 2022 400.000 call',\n",
       " 'exchangeTimezoneName': 'America/New_York',\n",
       " 'exchangeTimezoneShortName': 'EST',\n",
       " 'isEsgPopulated': False,\n",
       " 'gmtOffSetMilliseconds': '-18000000',\n",
       " 'underlyingSymbol': 'SPY',\n",
       " 'quoteType': 'OPTION',\n",
       " 'symbol': 'SPY221216C00400000',\n",
       " 'market': 'us24_market',\n",
       " 'previousClose': 4.51,\n",
       " 'regularMarketOpen': 3.99,\n",
       " 'twoHundredDayAverage': None,\n",
       " 'trailingAnnualDividendYield': None,\n",
       " 'payoutRatio': None,\n",
       " 'volume24Hr': None,\n",
       " 'regularMarketDayHigh': 4.94,\n",
       " 'navPrice': None,\n",
       " 'averageDailyVolume10Day': None,\n",
       " 'totalAssets': None,\n",
       " 'regularMarketPreviousClose': 4.51,\n",
       " 'fiftyDayAverage': None,\n",
       " 'trailingAnnualDividendRate': None,\n",
       " 'open': 3.99,\n",
       " 'toCurrency': None,\n",
       " 'averageVolume10days': None,\n",
       " 'expireDate': 1671148800,\n",
       " 'yield': None,\n",
       " 'algorithm': None,\n",
       " 'dividendRate': None,\n",
       " 'exDividendDate': None,\n",
       " 'beta': None,\n",
       " 'circulatingSupply': None,\n",
       " 'startDate': None,\n",
       " 'regularMarketDayLow': 3.72,\n",
       " 'priceHint': 4,\n",
       " 'currency': 'USD',\n",
       " 'regularMarketVolume': 12266,\n",
       " 'lastMarket': None,\n",
       " 'maxSupply': None,\n",
       " 'openInterest': 86743,\n",
       " 'marketCap': None,\n",
       " 'volumeAllCurrencies': None,\n",
       " 'strikePrice': 400,\n",
       " 'averageVolume': None,\n",
       " 'priceToSalesTrailing12Months': None,\n",
       " 'dayLow': 3.72,\n",
       " 'ask': 4.01,\n",
       " 'ytdReturn': None,\n",
       " 'askSize': None,\n",
       " 'volume': 12266,\n",
       " 'fiftyTwoWeekHigh': 4.94,\n",
       " 'forwardPE': None,\n",
       " 'maxAge': 1,\n",
       " 'fromCurrency': None,\n",
       " 'fiveYearAvgDividendYield': None,\n",
       " 'fiftyTwoWeekLow': 3.72,\n",
       " 'bid': 3.99,\n",
       " 'tradeable': False,\n",
       " 'dividendYield': None,\n",
       " 'bidSize': None,\n",
       " 'dayHigh': 4.94,\n",
       " 'coinMarketCapLink': None,\n",
       " 'regularMarketPrice': 4,\n",
       " 'logo_url': ''}"
      ]
     },
     "execution_count": 9,
     "metadata": {},
     "output_type": "execute_result"
    }
   ],
   "source": [
    "spy400c.info"
   ]
  },
  {
   "cell_type": "code",
   "execution_count": null,
   "id": "4f6f021c",
   "metadata": {},
   "outputs": [],
   "source": []
  },
  {
   "cell_type": "code",
   "execution_count": null,
   "id": "46fe87d4",
   "metadata": {},
   "outputs": [],
   "source": []
  },
  {
   "cell_type": "code",
   "execution_count": null,
   "id": "8a173d9b",
   "metadata": {},
   "outputs": [],
   "source": []
  },
  {
   "cell_type": "code",
   "execution_count": null,
   "id": "b925e41f",
   "metadata": {},
   "outputs": [],
   "source": []
  },
  {
   "cell_type": "code",
   "execution_count": null,
   "id": "cfbd97fd",
   "metadata": {},
   "outputs": [],
   "source": []
  }
 ],
 "metadata": {
  "kernelspec": {
   "display_name": "Python 3",
   "language": "python",
   "name": "python3"
  },
  "language_info": {
   "codemirror_mode": {
    "name": "ipython",
    "version": 3
   },
   "file_extension": ".py",
   "mimetype": "text/x-python",
   "name": "python",
   "nbconvert_exporter": "python",
   "pygments_lexer": "ipython3",
   "version": "3.9.15"
  }
 },
 "nbformat": 4,
 "nbformat_minor": 5
}
